{
 "cells": [
  {
   "cell_type": "markdown",
   "id": "58c799ea",
   "metadata": {},
   "source": [
    "# Dataset import"
   ]
  },
  {
   "cell_type": "code",
   "execution_count": 1,
   "id": "8dcc77dd",
   "metadata": {},
   "outputs": [],
   "source": [
    "import pandas as pd"
   ]
  },
  {
   "cell_type": "code",
   "execution_count": null,
   "id": "786390c0",
   "metadata": {},
   "outputs": [],
   "source": [
    "data=pd.read_csv('car data.csv') #read dataset"
   ]
  },
  {
   "cell_type": "code",
   "execution_count": null,
   "id": "18ca2467",
   "metadata": {},
   "outputs": [],
   "source": [
    "data.head()"
   ]
  },
  {
   "cell_type": "code",
   "execution_count": null,
   "id": "70bfd9ca",
   "metadata": {},
   "outputs": [],
   "source": []
  },
  {
   "cell_type": "markdown",
   "id": "f658bc6f",
   "metadata": {},
   "source": [
    "# Visualizations"
   ]
  },
  {
   "cell_type": "code",
   "execution_count": null,
   "id": "6e56f3c3",
   "metadata": {},
   "outputs": [],
   "source": [
    "import seaborn as sea\n",
    "import matplotlib.pyplot as plt\n",
    "%matplotlib inline"
   ]
  },
  {
   "cell_type": "code",
   "execution_count": null,
   "id": "61a29cd1",
   "metadata": {},
   "outputs": [],
   "source": [
    "data.isnull().sum() #check null values each status"
   ]
  },
  {
   "cell_type": "code",
   "execution_count": null,
   "id": "e9d60bf4",
   "metadata": {},
   "outputs": [],
   "source": [
    "data.isnull().sum().sum() #chekc all null value status"
   ]
  },
  {
   "cell_type": "code",
   "execution_count": null,
   "id": "1391b568",
   "metadata": {},
   "outputs": [],
   "source": [
    "sea.pairplot(data, hue='Fuel_Type')"
   ]
  },
  {
   "cell_type": "code",
   "execution_count": null,
   "id": "1357d520",
   "metadata": {},
   "outputs": [],
   "source": [
    "sea.barplot(x='Fuel_Type', y='Selling_Price', data=data)"
   ]
  },
  {
   "cell_type": "markdown",
   "id": "b8a3314a",
   "metadata": {},
   "source": [
    "# Feature Engineering"
   ]
  },
  {
   "cell_type": "code",
   "execution_count": null,
   "id": "57fb719e",
   "metadata": {},
   "outputs": [],
   "source": []
  },
  {
   "cell_type": "code",
   "execution_count": null,
   "id": "b945ba1c",
   "metadata": {},
   "outputs": [],
   "source": [
    "import datetime\n",
    "Current = datetime.datetime.now().year\n",
    "data['Used_Years']=Current-data['Year'] #Check how many years car being used"
   ]
  },
  {
   "cell_type": "code",
   "execution_count": null,
   "id": "92ae61b8",
   "metadata": {},
   "outputs": [],
   "source": []
  },
  {
   "cell_type": "code",
   "execution_count": null,
   "id": "1c62576f",
   "metadata": {},
   "outputs": [],
   "source": [
    " #Remove unnecessary rows"
   ]
  },
  {
   "cell_type": "code",
   "execution_count": null,
   "id": "9247fd6c",
   "metadata": {},
   "outputs": [],
   "source": [
    " #Convert categorical variables into numeric variables"
   ]
  },
  {
   "cell_type": "code",
   "execution_count": null,
   "id": "41f5ef14",
   "metadata": {},
   "outputs": [],
   "source": []
  },
  {
   "cell_type": "code",
   "execution_count": null,
   "id": "e26dfa7f",
   "metadata": {},
   "outputs": [],
   "source": []
  },
  {
   "cell_type": "markdown",
   "id": "08f8c49e",
   "metadata": {},
   "source": [
    "# Feature selection"
   ]
  },
  {
   "cell_type": "code",
   "execution_count": null,
   "id": "b985e051",
   "metadata": {},
   "outputs": [],
   "source": [
    "Depend=data.iloc[:,1:] #dependent variables and independent variables\n",
    "Independent=data.iloc[:,0]"
   ]
  },
  {
   "cell_type": "code",
   "execution_count": null,
   "id": "b09098a0",
   "metadata": {},
   "outputs": [],
   "source": [
    "# Feature Importance\n",
    "from sklearn.ensemble import ExtraTreesRegressor\n",
    "model=ExtraTreesRegressor()\n",
    "model.fit(Depend,Independent)"
   ]
  },
  {
   "cell_type": "code",
   "execution_count": null,
   "id": "cf4cbf05",
   "metadata": {},
   "outputs": [],
   "source": [
    "pd.Series(model.feature_importances_, index=Depend.columns).nlargest(6).plot(kind='barh')"
   ]
  },
  {
   "cell_type": "code",
   "execution_count": null,
   "id": "c459b757",
   "metadata": {},
   "outputs": [],
   "source": [
    "#Correlation check "
   ]
  },
  {
   "cell_type": "code",
   "execution_count": null,
   "id": "6f328438",
   "metadata": {},
   "outputs": [],
   "source": [
    "#Save the clened dataset"
   ]
  },
  {
   "cell_type": "code",
   "execution_count": null,
   "id": "2ca72dd4",
   "metadata": {},
   "outputs": [],
   "source": [
    "#Cleaned dataset"
   ]
  },
  {
   "cell_type": "markdown",
   "id": "a21bd98b",
   "metadata": {},
   "source": [
    "# Model build"
   ]
  },
  {
   "cell_type": "code",
   "execution_count": null,
   "id": "ed395392",
   "metadata": {},
   "outputs": [],
   "source": []
  },
  {
   "cell_type": "code",
   "execution_count": null,
   "id": "6f08a40b",
   "metadata": {},
   "outputs": [],
   "source": []
  },
  {
   "cell_type": "code",
   "execution_count": null,
   "id": "94707293",
   "metadata": {},
   "outputs": [],
   "source": []
  },
  {
   "cell_type": "code",
   "execution_count": null,
   "id": "42ceec8d",
   "metadata": {},
   "outputs": [],
   "source": []
  },
  {
   "cell_type": "code",
   "execution_count": null,
   "id": "67db254e",
   "metadata": {},
   "outputs": [],
   "source": []
  },
  {
   "cell_type": "code",
   "execution_count": null,
   "id": "d6acdfb8",
   "metadata": {},
   "outputs": [],
   "source": []
  }
 ],
 "metadata": {
  "interpreter": {
   "hash": "76295cc416e3f8588214871735fc9b474d41947f1017606ba77218cd0822a0e8"
  },
  "kernelspec": {
   "display_name": "Python 3 (ipykernel)",
   "language": "python",
   "name": "python3"
  },
  "language_info": {
   "codemirror_mode": {
    "name": "ipython",
    "version": 3
   },
   "file_extension": ".py",
   "mimetype": "text/x-python",
   "name": "python",
   "nbconvert_exporter": "python",
   "pygments_lexer": "ipython3",
   "version": "3.7.3"
  }
 },
 "nbformat": 4,
 "nbformat_minor": 5
}
